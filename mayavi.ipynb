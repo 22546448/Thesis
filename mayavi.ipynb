{
 "cells": [
  {
   "cell_type": "code",
   "execution_count": null,
   "metadata": {},
   "outputs": [],
   "source": [
    "import mayavi.mlab as mlab\n",
    "from numpy import *\n",
    "import numpy as np\n"
   ]
  },
  {
   "cell_type": "code",
   "execution_count": null,
   "metadata": {},
   "outputs": [],
   "source": []
  },
  {
   "cell_type": "code",
   "execution_count": null,
   "metadata": {},
   "outputs": [],
   "source": [
    "t = linspace(0,2*pi,50)\n",
    "u = cos(t)*pi\n",
    "x,y,z = sin(u),cos(u),sin(t)\n",
    "mlab.points3d(x,y,z,t,colormap = 'Reds',scale_mode='none')\n",
    "mlab.show()"
   ]
  },
  {
   "cell_type": "code",
   "execution_count": null,
   "metadata": {},
   "outputs": [],
   "source": [
    "x, y = np.mgrid[-10:10:100j, -10:10:100j]\n",
    "r = np.sqrt(x**2 + y**2)\n",
    "z = np.sin(r)/r\n",
    "print(z)\n",
    "mlab.surf(r, warp_scale='auto')\n",
    "mlab.show()"
   ]
  },
  {
   "cell_type": "code",
   "execution_count": null,
   "metadata": {},
   "outputs": [],
   "source": []
  },
  {
   "cell_type": "code",
   "execution_count": null,
   "metadata": {},
   "outputs": [],
   "source": [
    "t = linspace(0,2*pi,50)\n",
    "u = cos(t)*pi\n",
    "x,y,z = sin(u),cos(u),sin(t)\n",
    "mlab.plot3d(x,y,z,t,colormap = 'Reds')\n",
    "mlab.show()"
   ]
  },
  {
   "cell_type": "code",
   "execution_count": null,
   "metadata": {},
   "outputs": [],
   "source": [
    "z = linspace(0,2*pi,500)\n",
    "u = 20\n",
    "x,y = sin(u*z),cos(u*z)\n",
    "mlab.plot3d(x,y,z,colormap = 'Reds')\n",
    "mlab.show()"
   ]
  },
  {
   "cell_type": "code",
   "execution_count": null,
   "metadata": {},
   "outputs": [],
   "source": [
    "x,y = mgrid[-3:3:100j,-3:3:100j]\n",
    "\n",
    "print(x,y)\n",
    "z = sin(x**2 + y**2)\n",
    "mlab.surf(x,y,z)\n",
    "mlab.show()"
   ]
  },
  {
   "cell_type": "code",
   "execution_count": null,
   "metadata": {},
   "outputs": [],
   "source": [
    "x,y = mgrid[-3:3:100j,-3:3:100j]\n",
    "\n",
    "\n",
    "z = sin(x*x + y*y)\n",
    "\n",
    "mlab.contour_surf(x,y,z)\n",
    "mlab.show()\n",
    "\n",
    "\n"
   ]
  },
  {
   "cell_type": "code",
   "execution_count": null,
   "metadata": {},
   "outputs": [],
   "source": [
    "mlab.surf(x,y,z)\n",
    "mlab.show()"
   ]
  },
  {
   "cell_type": "code",
   "execution_count": null,
   "metadata": {},
   "outputs": [],
   "source": [
    "mlab.mesh(x,y,z)\n",
    "mlab.show()"
   ]
  },
  {
   "cell_type": "code",
   "execution_count": null,
   "metadata": {},
   "outputs": [],
   "source": [
    "phi,theta = mgrid[0:2*pi:200j,0:2*pi:200j]\n",
    "\n",
    "u = 2\n",
    "p = 4.1\n",
    "x = sin(u*phi)*cos(p*theta)\n",
    "y = sin(u*phi)*sin(p*theta)\n",
    "z = cos(phi)\n",
    "\n",
    "mlab.mesh(x,y,z)\n",
    "#mlab.mesh(x,y,z,representation = 'wireframe')\n",
    "mlab.show()\n"
   ]
  },
  {
   "cell_type": "code",
   "execution_count": null,
   "metadata": {},
   "outputs": [],
   "source": [
    "#triagular mesh\n",
    "import numpy as np\n",
    "x,y,z = [[0.,1.,1],[0.,0.,1],[0.,0,0]]\n",
    "t = [[0,1,2],] \n",
    "\n",
    "points = np.array( [[0.,1.,1],[0.,0.,1],[0.,0,0]])\n",
    "x,y,z = points.T\n",
    "\n",
    "mlab.triangular_mesh(x,y,z,t)\n",
    "mlab.show()"
   ]
  },
  {
   "cell_type": "code",
   "execution_count": 2,
   "metadata": {},
   "outputs": [],
   "source": [
    "import mayavi.mlab as mlab\n",
    "from numpy import *\n",
    "import numpy as np\n",
    "from EMFFeko import *\n",
    "from matplotlib import pyplot as plt\n",
    "import pandas as pd\n",
    "\n",
    "ff1 = GetFarField('IEC-62232-panel-antenna_FarField1.ffe')\n",
    "ff2 = GetFarField('test1.ffe')\n",
    "print(ff2['Directivity(Total)'].max())\n",
    "print(ff1['Directivity(Total)'].max())\n",
    "\n",
    "#print(ff1['Directivity(Total)'])\n",
    "phi, theta  = mgrid[0:361:1,0:181:1]\n",
    "Gnum = 10**(ff2['Directivity(Total)'].to_numpy()/10)\n",
    "lamda = 1/3\n",
    "AF = 20*np.log10(9.73/(lamda*np.sqrt(Gnum)))\n",
    "f = Gnum\n",
    "f = np.reshape(f,(361,181))\n",
    "x = f*np.sin(theta*np.pi/180)*np.cos(phi*np.pi/180)\n",
    "y = f*np.sin(theta*np.pi/180)*np.sin(phi*np.pi/180)\n",
    "z = f*np.cos(theta*np.pi/180)\n",
    "mlab.mesh(x, y, z)\n",
    "mlab.show()\n"
   ]
  },
  {
   "cell_type": "code",
   "execution_count": null,
   "metadata": {},
   "outputs": [],
   "source": [
    "import mayavi.mlab as mlab\n",
    "from numpy import *\n",
    "import numpy as np\n",
    "from EMFFeko import *\n",
    "from matplotlib import pyplot as plt\n",
    "import pandas as pd\n",
    "\n",
    "def test_mesh():\n",
    "    \"\"\"A very pretty picture of spherical harmonics translated from\n",
    "    the octaviz example.\"\"\"\n",
    "    pi = np.pi\n",
    "    cos = np.cos\n",
    "    sin = np.sin\n",
    "    dphi, dtheta = pi / 250.0, pi / 250.0\n",
    "    [phi, theta] = np.mgrid[0:pi:dphi,\n",
    "                            0:2*pi:dtheta]\n",
    "   \n",
    "\n",
    "    m0 = 4\n",
    "    m1 = 3\n",
    "    m2 = 2\n",
    "    m3 = 3\n",
    "    m4 = 6\n",
    "    m5 = 2\n",
    "    m6 = 6\n",
    "    m7 = 4\n",
    "    r = sin(m0 * phi) ** m1 + cos(m2 * phi) ** m3 + \\\n",
    "        sin(m4 * theta) ** m5 + cos(m6 * theta) ** m7\n",
    "    x = r * sin(phi) * cos(theta)\n",
    "    y = r * cos(phi)\n",
    "    z = r * sin(phi) * sin(theta)\n",
    "    print(phi.shape)\n",
    "\n",
    "    mlab.mesh(x, y, z, colormap=\"bone\")\n",
    "    mlab.show()\n",
    "\n",
    "test_mesh()"
   ]
  },
  {
   "cell_type": "code",
   "execution_count": null,
   "metadata": {},
   "outputs": [],
   "source": [
    "from audioop import lin2adpcm\n",
    "from cProfile import label\n",
    "from matplotlib.dates import SecondLocator\n",
    "from sympy import GoldenRatio\n",
    "from EMFFeko import *\n",
    "from matplotlib import pyplot as plt\n",
    "import pandas as pd\n",
    "import numpy as np\n",
    "from EMFIXUS import IXUSField\n",
    "import time\n",
    "import mayavi.mlab as mlab\n",
    "\n",
    "\n",
    "\n",
    "\n",
    "\n",
    "#df = GetField('IEC-62232-panel-antenna (3)_NearField3.efe','IEC-62232-panel-antenna (3)_NearField3.hfe').df\n",
    "\n",
    "xrange = np.arange(0.1, 20, 0.15)\n",
    "yrange = np.arange(-20, 20, 0.15)\n",
    "zrange = np.arange(-20, 20, 0.15)\n",
    "\n",
    "x,y,z = np.meshgrid(xrange, yrange, zrange)\n",
    "\n",
    "data = np.array([x,y,z]).reshape(3,-1).T\n",
    "df = pd.DataFrame(data,columns=['X','Y','Z'])\n",
    "\n",
    "df['R'] = np.sqrt(df['X']**2 + df['Y']**2 + df['Z']**2)\n",
    "df['phi'] = np.arccos(df['X']/df['R'])\n",
    "df['theta'] = np.arccos(df['Z']/df['R'])\n",
    "df['S'] = PeakCylindricalSector(df['phi'], df['R'])\n",
    "\n",
    "#test_mesh(df, error = 0.5)\n",
    "\n",
    "\n",
    "test1 = df.pivot_table(index = 'X', columns = 'Y', values='Z')"
   ]
  },
  {
   "cell_type": "code",
   "execution_count": null,
   "metadata": {},
   "outputs": [],
   "source": [
    "import mayavi.mlab as mlab\n",
    "from numpy import *\n",
    "import numpy as np\n",
    "from EMFFeko import *\n",
    "from matplotlib import pyplot as plt\n",
    "import pandas as pd\n",
    "\n",
    "def AverageCylindricalSector(phi,R,P = 80,AHPBW = 85,L = 2.25,G= 17,y = 0,ry = None):\n",
    "    G = 10**(G/10)\n",
    "    AHPBW = np.pi*AHPBW/180\n",
    "    ro = AHPBW*G*L*np.cos(y)**2/12\n",
    "    ry = R/np.cos(y)\n",
    "    return P*2**(-1*(2*phi/AHPBW)**2)/(AHPBW*ry*L*(np.cos(y)**2)*np.sqrt(1 + (ry/ro)**2))\n",
    "\n",
    "def PeakCylindricalSector(phi,R,P = 80,AHPBW = 85,L = 2.25,G= 17,y = 0):\n",
    "    G = 10**(G/10)\n",
    "    AHPBW *= np.pi/180\n",
    "    ro = AHPBW*G*L*np.cos(y)**2/12\n",
    "    ry = R/np.cos(y)\n",
    "    return 2*P*2**(-4*(phi/AHPBW)**2)/(AHPBW*ry*L*np.cos(y)**2*np.sqrt(1 + (2*ry/ro)**2))\n",
    "\n",
    "def ICNIRPmeshPeak(R, phi, theta, f = 900, D = 2.25):\n",
    "    lamda = 3*10**8/(f*10**6)\n",
    "    Rreactive = 0.62*np.sqrt(D**3/lamda)\n",
    "    Rnearfield = 2*D**2/lamda\n",
    "    S = []\n",
    "    for i in range(len(R)):\n",
    "        if np.abs(R[i]) < Rnearfield:\n",
    "            S.append(PeakCylindricalSector(phi[i],R[i]))\n",
    "        elif np.abs(R[i]) > Rnearfield:\n",
    "            S.append(AdjustedSphericalSector(theta[i], phi[i], R[i]))\n",
    "    return np.array(S)\n",
    "\n",
    "\n",
    "\n",
    "\n",
    "test_mesh()"
   ]
  },
  {
   "cell_type": "code",
   "execution_count": null,
   "metadata": {},
   "outputs": [],
   "source": [
    "import mayavi.mlab as mlab\n",
    "from numpy import *\n",
    "import numpy as np\n",
    "from EMFFeko import *\n",
    "from matplotlib import pyplot as plt\n",
    "import pandas as pd\n",
    "\n",
    "mlab.clf()\n",
    "phi, theta = np.mgrid[0:np.pi:11j, 0:2*np.pi:11j]\n",
    "x = np.sin(phi) * np.cos(theta)\n",
    "y = np.sin(phi) * np.sin(theta)\n",
    "z = np.cos(phi)\n",
    "mlab.mesh(x, y, z)\n",
    "mlab.mesh(x, y, z, representation='wireframe', color=(0, 0, 0))\n",
    "mlab.show()"
   ]
  },
  {
   "cell_type": "code",
   "execution_count": 2,
   "metadata": {},
   "outputs": [],
   "source": [
    "\n",
    "from EMFFeko import *\n",
    "import pandas as pd\n",
    "import numpy as np\n",
    "#import mayavi.mlab as mlab\n",
    "\n",
    "\n",
    "\n",
    "\n",
    "\n",
    "#df = GetField('IEC-62232-panel-antenna (3)_NearField3.efe','IEC-62232-panel-antenna (3)_NearField3.hfe').df\n",
    "\n",
    "xrange = np.arange(0.1, 20, 0.15)\n",
    "yrange = np.arange(-20, 20, 0.15)\n",
    "zrange = np.arange(-20, 20, 0.15)\n",
    "\n",
    "x,y,z = np.meshgrid(xrange, yrange, zrange)\n",
    "\n",
    "data = np.array([x,y,z]).reshape(3,-1).T\n",
    "df = pd.DataFrame(data,columns=['X','Y','Z'])\n",
    "\n",
    "df['R'] = np.sqrt(df['X']**2 + df['Y']**2 + df['Z']**2)\n",
    "df['phi'] = np.arccos(df['X']/df['R'])\n",
    "df['theta'] = np.arccos(df['Z']/df['R'])\n",
    "df['S'] = PeakCylindricalSector(df['phi'], df['R'])\n",
    "\n",
    "#test_mesh(df, error = 0.5)\n",
    "\n",
    "\n",
    "test1 = df.pivot_table(index = 'X', columns = 'Y', values='Z')"
   ]
  }
 ],
 "metadata": {
  "kernelspec": {
   "display_name": "Python 3.10.4 ('venv': venv)",
   "language": "python",
   "name": "python3"
  },
  "language_info": {
   "codemirror_mode": {
    "name": "ipython",
    "version": 3
   },
   "file_extension": ".py",
   "mimetype": "text/x-python",
   "name": "python",
   "nbconvert_exporter": "python",
   "pygments_lexer": "ipython3",
   "version": "3.10.4"
  },
  "orig_nbformat": 4,
  "vscode": {
   "interpreter": {
    "hash": "2ae21ef58596c5cd1c26fa0ab8c2bee8f6c0fc222a86a9fcf45f1cdeff58a2a5"
   }
  }
 },
 "nbformat": 4,
 "nbformat_minor": 2
}
