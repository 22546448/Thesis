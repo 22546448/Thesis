{
 "cells": [
  {
   "cell_type": "code",
   "execution_count": 3,
   "metadata": {},
   "outputs": [],
   "source": [
    "import mayavi.mlab as mlab\n",
    "from numpy import *\n",
    "import numpy as np\n"
   ]
  },
  {
   "cell_type": "code",
   "execution_count": 4,
   "metadata": {},
   "outputs": [],
   "source": []
  },
  {
   "cell_type": "code",
   "execution_count": 5,
   "metadata": {},
   "outputs": [],
   "source": [
    "t = linspace(0,2*pi,50)\n",
    "u = cos(t)*pi\n",
    "x,y,z = sin(u),cos(u),sin(t)\n",
    "mlab.points3d(x,y,z,t,colormap = 'Reds',scale_mode='none')\n",
    "mlab.show()"
   ]
  },
  {
   "cell_type": "code",
   "execution_count": 6,
   "metadata": {},
   "outputs": [
    {
     "name": "stdout",
     "output_type": "stream",
     "text": [
      "[[0.07070981 0.07075774 0.06938729 ... 0.06938729 0.07075774 0.07070981]\n",
      " [0.07075774 0.06934346 0.06649457 ... 0.06649457 0.06934346 0.07075774]\n",
      " [0.06938729 0.06649457 0.06217951 ... 0.06217951 0.06649457 0.06938729]\n",
      " ...\n",
      " [0.06938729 0.06649457 0.06217951 ... 0.06217951 0.06649457 0.06938729]\n",
      " [0.07075774 0.06934346 0.06649457 ... 0.06649457 0.06934346 0.07075774]\n",
      " [0.07070981 0.07075774 0.06938729 ... 0.06938729 0.07075774 0.07070981]]\n"
     ]
    }
   ],
   "source": [
    "x, y = np.mgrid[-10:10:100j, -10:10:100j]\n",
    "r = np.sqrt(x**2 + y**2)\n",
    "z = np.sin(r)/r\n",
    "print(z)\n",
    "mlab.surf(r, warp_scale='auto')\n",
    "mlab.show()"
   ]
  },
  {
   "cell_type": "code",
   "execution_count": null,
   "metadata": {},
   "outputs": [],
   "source": []
  },
  {
   "cell_type": "code",
   "execution_count": 7,
   "metadata": {},
   "outputs": [],
   "source": [
    "t = linspace(0,2*pi,50)\n",
    "u = cos(t)*pi\n",
    "x,y,z = sin(u),cos(u),sin(t)\n",
    "mlab.plot3d(x,y,z,t,colormap = 'Reds')\n",
    "mlab.show()"
   ]
  },
  {
   "cell_type": "code",
   "execution_count": 8,
   "metadata": {},
   "outputs": [],
   "source": [
    "z = linspace(0,2*pi,500)\n",
    "u = 20\n",
    "x,y = sin(u*z),cos(u*z)\n",
    "mlab.plot3d(x,y,z,colormap = 'Reds')\n",
    "mlab.show()"
   ]
  },
  {
   "cell_type": "code",
   "execution_count": 9,
   "metadata": {},
   "outputs": [
    {
     "name": "stdout",
     "output_type": "stream",
     "text": [
      "[[-3.         -3.         -3.         ... -3.         -3.\n",
      "  -3.        ]\n",
      " [-2.93939394 -2.93939394 -2.93939394 ... -2.93939394 -2.93939394\n",
      "  -2.93939394]\n",
      " [-2.87878788 -2.87878788 -2.87878788 ... -2.87878788 -2.87878788\n",
      "  -2.87878788]\n",
      " ...\n",
      " [ 2.87878788  2.87878788  2.87878788 ...  2.87878788  2.87878788\n",
      "   2.87878788]\n",
      " [ 2.93939394  2.93939394  2.93939394 ...  2.93939394  2.93939394\n",
      "   2.93939394]\n",
      " [ 3.          3.          3.         ...  3.          3.\n",
      "   3.        ]] [[-3.         -2.93939394 -2.87878788 ...  2.87878788  2.93939394\n",
      "   3.        ]\n",
      " [-3.         -2.93939394 -2.87878788 ...  2.87878788  2.93939394\n",
      "   3.        ]\n",
      " [-3.         -2.93939394 -2.87878788 ...  2.87878788  2.93939394\n",
      "   3.        ]\n",
      " ...\n",
      " [-3.         -2.93939394 -2.87878788 ...  2.87878788  2.93939394\n",
      "   3.        ]\n",
      " [-3.         -2.93939394 -2.87878788 ...  2.87878788  2.93939394\n",
      "   3.        ]\n",
      " [-3.         -2.93939394 -2.87878788 ...  2.87878788  2.93939394\n",
      "   3.        ]]\n"
     ]
    }
   ],
   "source": [
    "x,y = mgrid[-3:3:100j,-3:3:100j]\n",
    "\n",
    "print(x,y)\n",
    "z = sin(x**2 + y**2)\n",
    "mlab.surf(x,y,z)\n",
    "mlab.show()"
   ]
  },
  {
   "cell_type": "code",
   "execution_count": 10,
   "metadata": {},
   "outputs": [],
   "source": [
    "x,y = mgrid[-3:3:100j,-3:3:100j]\n",
    "\n",
    "\n",
    "z = sin(x*x + y*y)\n",
    "\n",
    "mlab.contour_surf(x,y,z)\n",
    "mlab.show()\n",
    "\n",
    "\n"
   ]
  },
  {
   "cell_type": "code",
   "execution_count": 11,
   "metadata": {},
   "outputs": [],
   "source": [
    "mlab.surf(x,y,z)\n",
    "mlab.show()"
   ]
  },
  {
   "cell_type": "code",
   "execution_count": 12,
   "metadata": {},
   "outputs": [],
   "source": [
    "mlab.mesh(x,y,z)\n",
    "mlab.show()"
   ]
  },
  {
   "cell_type": "code",
   "execution_count": 13,
   "metadata": {},
   "outputs": [],
   "source": [
    "phi,theta = mgrid[0:2*pi:200j,0:2*pi:200j]\n",
    "\n",
    "u = 2\n",
    "p = 4.1\n",
    "x = sin(u*phi)*cos(p*theta)\n",
    "y = sin(u*phi)*sin(p*theta)\n",
    "z = cos(phi)\n",
    "\n",
    "mlab.mesh(x,y,z)\n",
    "#mlab.mesh(x,y,z,representation = 'wireframe')\n",
    "mlab.show()\n"
   ]
  },
  {
   "cell_type": "code",
   "execution_count": 14,
   "metadata": {},
   "outputs": [],
   "source": [
    "#triagular mesh\n",
    "import numpy as np\n",
    "x,y,z = [[0.,1.,1],[0.,0.,1],[0.,0,0]]\n",
    "t = [[0,1,2],] \n",
    "\n",
    "points = np.array( [[0.,1.,1],[0.,0.,1],[0.,0,0]])\n",
    "x,y,z = points.T\n",
    "\n",
    "mlab.triangular_mesh(x,y,z,t)\n",
    "mlab.show()"
   ]
  },
  {
   "cell_type": "code",
   "execution_count": 2,
   "metadata": {},
   "outputs": [
    {
     "name": "stdout",
     "output_type": "stream",
     "text": [
      "17.0318457\n",
      "17.0317981\n"
     ]
    }
   ],
   "source": [
    "import mayavi.mlab as mlab\n",
    "from numpy import *\n",
    "import numpy as np\n",
    "from EMFFeko import *\n",
    "from matplotlib import pyplot as plt\n",
    "import pandas as pd\n",
    "\n",
    "ff1 = GetFarField('IEC-62232-panel-antenna_FarField1.ffe')\n",
    "ff2 = GetFarField('test1.ffe')\n",
    "print(ff2['Directivity(Total)'].max())\n",
    "print(ff1['Directivity(Total)'].max())\n",
    "\n",
    "#print(ff1['Directivity(Total)'])\n",
    "phi, theta  = mgrid[0:361:1,0:181:1]\n",
    "Gnum = 10**(ff2['Directivity(Total)'].to_numpy()/10)\n",
    "lamda = 1/3\n",
    "AF = 20*np.log10(9.73/(lamda*np.sqrt(Gnum)))\n",
    "f = Gnum\n",
    "f = np.reshape(f,(361,181))\n",
    "x = f*np.sin(theta*np.pi/180)*np.cos(phi*np.pi/180)\n",
    "y = f*np.sin(theta*np.pi/180)*np.sin(phi*np.pi/180)\n",
    "z = f*np.cos(theta*np.pi/180)\n",
    "mlab.mesh(x, y, z)\n",
    "mlab.show()\n"
   ]
  }
 ],
 "metadata": {
  "kernelspec": {
   "display_name": "Python 3.10.4 ('venv': venv)",
   "language": "python",
   "name": "python3"
  },
  "language_info": {
   "codemirror_mode": {
    "name": "ipython",
    "version": 3
   },
   "file_extension": ".py",
   "mimetype": "text/x-python",
   "name": "python",
   "nbconvert_exporter": "python",
   "pygments_lexer": "ipython3",
   "version": "3.10.4"
  },
  "orig_nbformat": 4,
  "vscode": {
   "interpreter": {
    "hash": "2ae21ef58596c5cd1c26fa0ab8c2bee8f6c0fc222a86a9fcf45f1cdeff58a2a5"
   }
  }
 },
 "nbformat": 4,
 "nbformat_minor": 2
}
