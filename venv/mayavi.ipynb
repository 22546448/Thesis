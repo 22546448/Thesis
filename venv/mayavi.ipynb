{
 "cells": [
  {
   "cell_type": "code",
   "execution_count": 2,
   "metadata": {},
   "outputs": [],
   "source": [
    "import mayavi.mlab as mlab\n",
    "from numpy import *\n",
    "import numpy as np\n"
   ]
  },
  {
   "cell_type": "code",
   "execution_count": 16,
   "metadata": {},
   "outputs": [],
   "source": [
    "mlab.test_contour3d()\n",
    "mlab.show()"
   ]
  },
  {
   "cell_type": "code",
   "execution_count": 12,
   "metadata": {},
   "outputs": [],
   "source": [
    "t = linspace(0,2*pi,50)\n",
    "u = cos(t)*pi\n",
    "x,y,z = sin(u),cos(u),sin(t)\n",
    "mlab.points3d(x,y,z,t,colormap = 'Reds',scale_mode='none')\n",
    "mlab.show()"
   ]
  },
  {
   "cell_type": "code",
   "execution_count": 3,
   "metadata": {},
   "outputs": [
    {
     "ename": "NameError",
     "evalue": "name 'np' is not defined",
     "output_type": "error",
     "traceback": [
      "\u001b[1;31m---------------------------------------------------------------------------\u001b[0m",
      "\u001b[1;31mNameError\u001b[0m                                 Traceback (most recent call last)",
      "Cell \u001b[1;32mIn [3], line 1\u001b[0m\n\u001b[1;32m----> 1\u001b[0m x, y \u001b[38;5;241m=\u001b[39m \u001b[43mnp\u001b[49m\u001b[38;5;241m.\u001b[39mmgrid[\u001b[38;5;241m-\u001b[39m\u001b[38;5;241m10\u001b[39m:\u001b[38;5;241m10\u001b[39m:\u001b[38;5;241m100\u001b[39mj, \u001b[38;5;241m-\u001b[39m\u001b[38;5;241m10\u001b[39m:\u001b[38;5;241m10\u001b[39m:\u001b[38;5;241m100\u001b[39mj]\n\u001b[0;32m      2\u001b[0m r \u001b[38;5;241m=\u001b[39m np\u001b[38;5;241m.\u001b[39msqrt(x\u001b[38;5;241m*\u001b[39m\u001b[38;5;241m*\u001b[39m\u001b[38;5;241m2\u001b[39m \u001b[38;5;241m+\u001b[39m y\u001b[38;5;241m*\u001b[39m\u001b[38;5;241m*\u001b[39m\u001b[38;5;241m2\u001b[39m)\n\u001b[0;32m      3\u001b[0m z \u001b[38;5;241m=\u001b[39m np\u001b[38;5;241m.\u001b[39msin(r)\u001b[38;5;241m/\u001b[39mr\n",
      "\u001b[1;31mNameError\u001b[0m: name 'np' is not defined"
     ]
    }
   ],
   "source": [
    "x, y = np.mgrid[-10:10:100j, -10:10:100j]\n",
    "r = np.sqrt(x**2 + y**2)\n",
    "z = np.sin(r)/r\n",
    "print(z)\n",
    "#mlab.surf(z, warp_scale='auto')\n",
    "#mlab.show()"
   ]
  },
  {
   "cell_type": "code",
   "execution_count": null,
   "metadata": {},
   "outputs": [],
   "source": []
  },
  {
   "cell_type": "code",
   "execution_count": 4,
   "metadata": {},
   "outputs": [],
   "source": [
    "t = linspace(0,2*pi,50)\n",
    "u = cos(t)*pi\n",
    "x,y,z = sin(u),cos(u),sin(t)\n",
    "mlab.plot3d(x,y,z,t,colormap = 'Reds')\n",
    "mlab.show()"
   ]
  },
  {
   "cell_type": "code",
   "execution_count": 5,
   "metadata": {},
   "outputs": [],
   "source": [
    "z = linspace(0,2*pi,500)\n",
    "u = 20\n",
    "x,y = sin(u*z),cos(u*z)\n",
    "mlab.plot3d(x,y,z,colormap = 'Reds')\n",
    "mlab.show()"
   ]
  },
  {
   "cell_type": "code",
   "execution_count": 11,
   "metadata": {},
   "outputs": [
    {
     "name": "stdout",
     "output_type": "stream",
     "text": [
      "[[-3.         -3.         -3.         -3.         -3.         -3.\n",
      "  -3.         -3.         -3.         -3.        ]\n",
      " [-2.33333333 -2.33333333 -2.33333333 -2.33333333 -2.33333333 -2.33333333\n",
      "  -2.33333333 -2.33333333 -2.33333333 -2.33333333]\n",
      " [-1.66666667 -1.66666667 -1.66666667 -1.66666667 -1.66666667 -1.66666667\n",
      "  -1.66666667 -1.66666667 -1.66666667 -1.66666667]\n",
      " [-1.         -1.         -1.         -1.         -1.         -1.\n",
      "  -1.         -1.         -1.         -1.        ]\n",
      " [-0.33333333 -0.33333333 -0.33333333 -0.33333333 -0.33333333 -0.33333333\n",
      "  -0.33333333 -0.33333333 -0.33333333 -0.33333333]\n",
      " [ 0.33333333  0.33333333  0.33333333  0.33333333  0.33333333  0.33333333\n",
      "   0.33333333  0.33333333  0.33333333  0.33333333]\n",
      " [ 1.          1.          1.          1.          1.          1.\n",
      "   1.          1.          1.          1.        ]\n",
      " [ 1.66666667  1.66666667  1.66666667  1.66666667  1.66666667  1.66666667\n",
      "   1.66666667  1.66666667  1.66666667  1.66666667]\n",
      " [ 2.33333333  2.33333333  2.33333333  2.33333333  2.33333333  2.33333333\n",
      "   2.33333333  2.33333333  2.33333333  2.33333333]\n",
      " [ 3.          3.          3.          3.          3.          3.\n",
      "   3.          3.          3.          3.        ]] [[-3.         -2.33333333 -1.66666667 -1.         -0.33333333  0.33333333\n",
      "   1.          1.66666667  2.33333333  3.        ]\n",
      " [-3.         -2.33333333 -1.66666667 -1.         -0.33333333  0.33333333\n",
      "   1.          1.66666667  2.33333333  3.        ]\n",
      " [-3.         -2.33333333 -1.66666667 -1.         -0.33333333  0.33333333\n",
      "   1.          1.66666667  2.33333333  3.        ]\n",
      " [-3.         -2.33333333 -1.66666667 -1.         -0.33333333  0.33333333\n",
      "   1.          1.66666667  2.33333333  3.        ]\n",
      " [-3.         -2.33333333 -1.66666667 -1.         -0.33333333  0.33333333\n",
      "   1.          1.66666667  2.33333333  3.        ]\n",
      " [-3.         -2.33333333 -1.66666667 -1.         -0.33333333  0.33333333\n",
      "   1.          1.66666667  2.33333333  3.        ]\n",
      " [-3.         -2.33333333 -1.66666667 -1.         -0.33333333  0.33333333\n",
      "   1.          1.66666667  2.33333333  3.        ]\n",
      " [-3.         -2.33333333 -1.66666667 -1.         -0.33333333  0.33333333\n",
      "   1.          1.66666667  2.33333333  3.        ]\n",
      " [-3.         -2.33333333 -1.66666667 -1.         -0.33333333  0.33333333\n",
      "   1.          1.66666667  2.33333333  3.        ]\n",
      " [-3.         -2.33333333 -1.66666667 -1.         -0.33333333  0.33333333\n",
      "   1.          1.66666667  2.33333333  3.        ]]\n"
     ]
    }
   ],
   "source": [
    "x,y = mgrid[-3:3:10j,-3:3:10j]\n",
    "\n",
    "print(x,y)\n",
    "z = sin(x**2 + y**2)\n",
    "mlab.surf(x,y,z)\n",
    "mlab.show()"
   ]
  },
  {
   "cell_type": "code",
   "execution_count": 6,
   "metadata": {},
   "outputs": [],
   "source": [
    "x,y = mgrid[-3:3:100j,-3:3:100j]\n",
    "\n",
    "\n",
    "z = sin(x*x + y*y)\n",
    "\n",
    "mlab.contour_surf(x,y,z)\n",
    "mlab.show()\n",
    "\n",
    "\n"
   ]
  },
  {
   "cell_type": "code",
   "execution_count": null,
   "metadata": {},
   "outputs": [],
   "source": [
    "mlab.surf(x,y,z)\n",
    "mlab.show()"
   ]
  },
  {
   "cell_type": "code",
   "execution_count": 17,
   "metadata": {},
   "outputs": [
    {
     "ename": "AssertionError",
     "evalue": "Array x must be 2 dimensional.",
     "output_type": "error",
     "traceback": [
      "\u001b[1;31m---------------------------------------------------------------------------\u001b[0m",
      "\u001b[1;31mAssertionError\u001b[0m                            Traceback (most recent call last)",
      "Cell \u001b[1;32mIn [17], line 1\u001b[0m\n\u001b[1;32m----> 1\u001b[0m \u001b[43mmlab\u001b[49m\u001b[38;5;241;43m.\u001b[39;49m\u001b[43mmesh\u001b[49m\u001b[43m(\u001b[49m\u001b[43mx\u001b[49m\u001b[43m,\u001b[49m\u001b[43my\u001b[49m\u001b[43m,\u001b[49m\u001b[43mz\u001b[49m\u001b[43m)\u001b[49m\n\u001b[0;32m      2\u001b[0m mlab\u001b[38;5;241m.\u001b[39mshow()\n",
      "File \u001b[1;32mc:\\Users\\Christiaan\\OneDrive\\Documents\\Thesis\\venv\\lib\\site-packages\\mayavi\\tools\\helper_functions.py:38\u001b[0m, in \u001b[0;36mdocument_pipeline.<locals>.the_function\u001b[1;34m(*args, **kwargs)\u001b[0m\n\u001b[0;32m     37\u001b[0m \u001b[39mdef\u001b[39;00m \u001b[39mthe_function\u001b[39m(\u001b[39m*\u001b[39margs, \u001b[39m*\u001b[39m\u001b[39m*\u001b[39mkwargs):\n\u001b[1;32m---> 38\u001b[0m     \u001b[39mreturn\u001b[39;00m pipeline(\u001b[39m*\u001b[39margs, \u001b[39m*\u001b[39m\u001b[39m*\u001b[39mkwargs)\n",
      "File \u001b[1;32mc:\\Users\\Christiaan\\OneDrive\\Documents\\Thesis\\venv\\lib\\site-packages\\mayavi\\tools\\helper_functions.py:83\u001b[0m, in \u001b[0;36mPipeline.__call__\u001b[1;34m(self, *args, **kwargs)\u001b[0m\n\u001b[0;32m     81\u001b[0m     scene\u001b[39m.\u001b[39mdisable_render \u001b[39m=\u001b[39m \u001b[39mTrue\u001b[39;00m\n\u001b[0;32m     82\u001b[0m \u001b[39m# Then call the real logic\u001b[39;00m\n\u001b[1;32m---> 83\u001b[0m output \u001b[39m=\u001b[39m \u001b[39mself\u001b[39m\u001b[39m.\u001b[39m__call_internal__(\u001b[39m*\u001b[39margs, \u001b[39m*\u001b[39m\u001b[39m*\u001b[39mkwargs)\n\u001b[0;32m     84\u001b[0m \u001b[39m# And re-enable the rendering, if needed.\u001b[39;00m\n\u001b[0;32m     85\u001b[0m \u001b[39mif\u001b[39;00m scene \u001b[39mis\u001b[39;00m \u001b[39mnot\u001b[39;00m \u001b[39mNone\u001b[39;00m:\n",
      "File \u001b[1;32mc:\\Users\\Christiaan\\OneDrive\\Documents\\Thesis\\venv\\lib\\site-packages\\mayavi\\tools\\helper_functions.py:859\u001b[0m, in \u001b[0;36mMesh.__call_internal__\u001b[1;34m(self, *args, **kwargs)\u001b[0m\n\u001b[0;32m    855\u001b[0m \u001b[39mdef\u001b[39;00m \u001b[39m__call_internal__\u001b[39m(\u001b[39mself\u001b[39m, \u001b[39m*\u001b[39margs, \u001b[39m*\u001b[39m\u001b[39m*\u001b[39mkwargs):\n\u001b[0;32m    856\u001b[0m     \u001b[39m\"\"\" Override the call to be able to choose whether to apply\u001b[39;00m\n\u001b[0;32m    857\u001b[0m \u001b[39m    filters.\u001b[39;00m\n\u001b[0;32m    858\u001b[0m \u001b[39m    \"\"\"\u001b[39;00m\n\u001b[1;32m--> 859\u001b[0m     \u001b[39mself\u001b[39m\u001b[39m.\u001b[39msource \u001b[39m=\u001b[39m \u001b[39mself\u001b[39m\u001b[39m.\u001b[39m_source_function(\u001b[39m*\u001b[39margs, \u001b[39m*\u001b[39m\u001b[39m*\u001b[39mkwargs)\n\u001b[0;32m    860\u001b[0m     kwargs\u001b[39m.\u001b[39mpop(\u001b[39m'\u001b[39m\u001b[39mname\u001b[39m\u001b[39m'\u001b[39m, \u001b[39mNone\u001b[39;00m)\n\u001b[0;32m    861\u001b[0m     \u001b[39mself\u001b[39m\u001b[39m.\u001b[39mstore_kwargs(kwargs)\n",
      "File \u001b[1;32mc:\\Users\\Christiaan\\OneDrive\\Documents\\Thesis\\venv\\lib\\site-packages\\mayavi\\tools\\sources.py:1297\u001b[0m, in \u001b[0;36mgrid_source\u001b[1;34m(x, y, z, **kwargs)\u001b[0m\n\u001b[0;32m   1295\u001b[0m x, y, z, scalars \u001b[39m=\u001b[39m convert_to_arrays((x, y, z, scalars))\n\u001b[0;32m   1296\u001b[0m data_source \u001b[39m=\u001b[39m MGridSource()\n\u001b[1;32m-> 1297\u001b[0m data_source\u001b[39m.\u001b[39;49mreset(x\u001b[39m=\u001b[39;49mx, y\u001b[39m=\u001b[39;49my, z\u001b[39m=\u001b[39;49mz, scalars\u001b[39m=\u001b[39;49mscalars, mask\u001b[39m=\u001b[39;49mmask)\n\u001b[0;32m   1299\u001b[0m name \u001b[39m=\u001b[39m kwargs\u001b[39m.\u001b[39mpop(\u001b[39m'\u001b[39m\u001b[39mname\u001b[39m\u001b[39m'\u001b[39m, \u001b[39m'\u001b[39m\u001b[39mGridSource\u001b[39m\u001b[39m'\u001b[39m)\n\u001b[0;32m   1300\u001b[0m ds \u001b[39m=\u001b[39m tools\u001b[39m.\u001b[39madd_dataset(data_source\u001b[39m.\u001b[39mdataset, name, \u001b[39m*\u001b[39m\u001b[39m*\u001b[39mkwargs)\n",
      "File \u001b[1;32mc:\\Users\\Christiaan\\OneDrive\\Documents\\Thesis\\venv\\lib\\site-packages\\mayavi\\tools\\sources.py:694\u001b[0m, in \u001b[0;36mMGridSource.reset\u001b[1;34m(self, **traits)\u001b[0m\n\u001b[0;32m    691\u001b[0m     scalars \u001b[39m=\u001b[39m scalars\u001b[39m.\u001b[39mastype(\u001b[39m'\u001b[39m\u001b[39mfloat\u001b[39m\u001b[39m'\u001b[39m)\n\u001b[0;32m    692\u001b[0m     \u001b[39mself\u001b[39m\u001b[39m.\u001b[39mtrait_set(scalars\u001b[39m=\u001b[39mscalars, trait_change_notify\u001b[39m=\u001b[39m\u001b[39mFalse\u001b[39;00m)\n\u001b[1;32m--> 694\u001b[0m \u001b[39massert\u001b[39;00m \u001b[39mlen\u001b[39m(x\u001b[39m.\u001b[39mshape) \u001b[39m==\u001b[39m \u001b[39m2\u001b[39m, \u001b[39m\"\u001b[39m\u001b[39mArray x must be 2 dimensional.\u001b[39m\u001b[39m\"\u001b[39m\n\u001b[0;32m    695\u001b[0m \u001b[39massert\u001b[39;00m \u001b[39mlen\u001b[39m(y\u001b[39m.\u001b[39mshape) \u001b[39m==\u001b[39m \u001b[39m2\u001b[39m, \u001b[39m\"\u001b[39m\u001b[39mArray y must be 2 dimensional.\u001b[39m\u001b[39m\"\u001b[39m\n\u001b[0;32m    696\u001b[0m \u001b[39massert\u001b[39;00m \u001b[39mlen\u001b[39m(z\u001b[39m.\u001b[39mshape) \u001b[39m==\u001b[39m \u001b[39m2\u001b[39m, \u001b[39m\"\u001b[39m\u001b[39mArray z must be 2 dimensional.\u001b[39m\u001b[39m\"\u001b[39m\n",
      "\u001b[1;31mAssertionError\u001b[0m: Array x must be 2 dimensional."
     ]
    },
    {
     "ename": "",
     "evalue": "",
     "output_type": "error",
     "traceback": [
      "\u001b[1;31mThe Kernel crashed while executing code in the the current cell or a previous cell. Please review the code in the cell(s) to identify a possible cause of the failure. Click <a href='https://aka.ms/vscodeJupyterKernelCrash'>here</a> for more info. View Jupyter <a href='command:jupyter.viewOutput'>log</a> for further details."
     ]
    }
   ],
   "source": [
    "mlab.mesh(x,y,z)\n",
    "mlab.show()"
   ]
  },
  {
   "cell_type": "code",
   "execution_count": 13,
   "metadata": {},
   "outputs": [],
   "source": [
    "phi,theta = mgrid[0:2*pi:200j,0:2*pi:200j]\n",
    "\n",
    "u = 2\n",
    "p = 4.1\n",
    "x = sin(u*phi)*cos(p*theta)\n",
    "y = sin(u*phi)*sin(p*theta)\n",
    "z = cos(phi)\n",
    "\n",
    "mlab.mesh(x,y,z)\n",
    "#mlab.mesh(x,y,z,representation = 'wireframe')\n",
    "mlab.show()\n"
   ]
  },
  {
   "cell_type": "code",
   "execution_count": 3,
   "metadata": {},
   "outputs": [
    {
     "ename": "KeyboardInterrupt",
     "evalue": "",
     "output_type": "error",
     "traceback": [
      "\u001b[1;31m---------------------------------------------------------------------------\u001b[0m",
      "\u001b[1;31mKeyboardInterrupt\u001b[0m                         Traceback (most recent call last)",
      "File \u001b[1;32mc:\\Users\\Christiaan\\OneDrive\\Documents\\Thesis\\venv\\lib\\site-packages\\pyface\\ui\\qt4\\window.py:204\u001b[0m, in \u001b[0;36mWindowEventFilter.eventFilter\u001b[1;34m(self, obj, e)\u001b[0m\n\u001b[0;32m    200\u001b[0m     \u001b[39m# use a weakref to fix finalization issues with circular references\u001b[39;00m\n\u001b[0;32m    201\u001b[0m     \u001b[39m# we don't want to be the last thing holding a reference to the window\u001b[39;00m\n\u001b[0;32m    202\u001b[0m     \u001b[39mself\u001b[39m\u001b[39m.\u001b[39m_window \u001b[39m=\u001b[39m weakref\u001b[39m.\u001b[39mref(window)\n\u001b[1;32m--> 204\u001b[0m \u001b[39mdef\u001b[39;00m \u001b[39meventFilter\u001b[39m(\u001b[39mself\u001b[39m, obj, e):\n\u001b[0;32m    205\u001b[0m     \u001b[39m\"\"\" Adds any event listeners required by the window. \"\"\"\u001b[39;00m\n\u001b[0;32m    207\u001b[0m     window \u001b[39m=\u001b[39m \u001b[39mself\u001b[39m\u001b[39m.\u001b[39m_window()\n",
      "\u001b[1;31mKeyboardInterrupt\u001b[0m: "
     ]
    }
   ],
   "source": [
    "#triagular mesh\n",
    "import numpy as np\n",
    "x,y,z = [[0.,1.,1],[0.,0.,1],[0.,0,0]]\n",
    "t = [[0,1,2],] \n",
    "\n",
    "points = np.array( [[0.,1.,1],[0.,0.,1],[0.,0,0]])\n",
    "x,y,z = points.T\n",
    "\n",
    "mlab.triangular_mesh(x,y,z,t)\n",
    "mlab.show()"
   ]
  }
 ],
 "metadata": {
  "kernelspec": {
   "display_name": "Python 3.10.4 ('venv': venv)",
   "language": "python",
   "name": "python3"
  },
  "language_info": {
   "codemirror_mode": {
    "name": "ipython",
    "version": 3
   },
   "file_extension": ".py",
   "mimetype": "text/x-python",
   "name": "python",
   "nbconvert_exporter": "python",
   "pygments_lexer": "ipython3",
   "version": "3.10.4"
  },
  "orig_nbformat": 4,
  "vscode": {
   "interpreter": {
    "hash": "2ae21ef58596c5cd1c26fa0ab8c2bee8f6c0fc222a86a9fcf45f1cdeff58a2a5"
   }
  }
 },
 "nbformat": 4,
 "nbformat_minor": 2
}
