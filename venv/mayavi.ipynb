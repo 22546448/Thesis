{
 "cells": [
  {
   "cell_type": "code",
   "execution_count": 2,
   "metadata": {},
   "outputs": [],
   "source": [
    "import mayavi.mlab as mlab\n",
    "from numpy import *\n",
    "import numpy as np\n"
   ]
  },
  {
   "cell_type": "code",
   "execution_count": 16,
   "metadata": {},
   "outputs": [],
   "source": [
    "mlab.test_contour3d()\n",
    "mlab.show()"
   ]
  },
  {
   "cell_type": "code",
   "execution_count": 3,
   "metadata": {},
   "outputs": [],
   "source": [
    "t = linspace(0,2*pi,50)\n",
    "u = cos(t)*pi\n",
    "x,y,z = sin(u),cos(u),sin(t)\n",
    "mlab.points3d(x,y,z,t,colormap = 'Reds',scale_mode='none')\n",
    "mlab.show()"
   ]
  },
  {
   "cell_type": "code",
   "execution_count": 1,
   "metadata": {},
   "outputs": [
    {
     "ename": "NameError",
     "evalue": "name 'np' is not defined",
     "output_type": "error",
     "traceback": [
      "\u001b[1;31m---------------------------------------------------------------------------\u001b[0m",
      "\u001b[1;31mNameError\u001b[0m                                 Traceback (most recent call last)",
      "Cell \u001b[1;32mIn [1], line 1\u001b[0m\n\u001b[1;32m----> 1\u001b[0m x, y \u001b[38;5;241m=\u001b[39m \u001b[43mnp\u001b[49m\u001b[38;5;241m.\u001b[39mmgrid[\u001b[38;5;241m-\u001b[39m\u001b[38;5;241m10\u001b[39m:\u001b[38;5;241m10\u001b[39m:\u001b[38;5;241m100\u001b[39mj, \u001b[38;5;241m-\u001b[39m\u001b[38;5;241m10\u001b[39m:\u001b[38;5;241m10\u001b[39m:\u001b[38;5;241m100\u001b[39mj]\n\u001b[0;32m      2\u001b[0m r \u001b[38;5;241m=\u001b[39m np\u001b[38;5;241m.\u001b[39msqrt(x\u001b[38;5;241m*\u001b[39m\u001b[38;5;241m*\u001b[39m\u001b[38;5;241m2\u001b[39m \u001b[38;5;241m+\u001b[39m y\u001b[38;5;241m*\u001b[39m\u001b[38;5;241m*\u001b[39m\u001b[38;5;241m2\u001b[39m)\n\u001b[0;32m      3\u001b[0m z \u001b[38;5;241m=\u001b[39m np\u001b[38;5;241m.\u001b[39msin(r)\u001b[38;5;241m/\u001b[39mr\n",
      "\u001b[1;31mNameError\u001b[0m: name 'np' is not defined"
     ]
    }
   ],
   "source": [
    "x, y = np.mgrid[-10:10:100j, -10:10:100j]\n",
    "r = np.sqrt(x**2 + y**2)\n",
    "z = np.sin(r)/r\n",
    "print(z)\n",
    "#mlab.surf(z, warp_scale='auto')\n",
    "#mlab.show()"
   ]
  },
  {
   "cell_type": "code",
   "execution_count": null,
   "metadata": {},
   "outputs": [],
   "source": []
  },
  {
   "cell_type": "code",
   "execution_count": 4,
   "metadata": {},
   "outputs": [],
   "source": [
    "t = linspace(0,2*pi,50)\n",
    "u = cos(t)*pi\n",
    "x,y,z = sin(u),cos(u),sin(t)\n",
    "mlab.plot3d(x,y,z,t,colormap = 'Reds')\n",
    "mlab.show()"
   ]
  },
  {
   "cell_type": "code",
   "execution_count": 5,
   "metadata": {},
   "outputs": [],
   "source": [
    "z = linspace(0,2*pi,500)\n",
    "u = 20\n",
    "x,y = sin(u*z),cos(u*z)\n",
    "mlab.plot3d(x,y,z,colormap = 'Reds')\n",
    "mlab.show()"
   ]
  },
  {
   "cell_type": "code",
   "execution_count": 3,
   "metadata": {},
   "outputs": [
    {
     "name": "stdout",
     "output_type": "stream",
     "text": [
      "[[-3.  -3.  -3.  ... -3.  -3.  -3. ]\n",
      " [-2.5 -2.5 -2.5 ... -2.5 -2.5 -2.5]\n",
      " [-2.  -2.  -2.  ... -2.  -2.  -2. ]\n",
      " ...\n",
      " [ 1.5  1.5  1.5 ...  1.5  1.5  1.5]\n",
      " [ 2.   2.   2.  ...  2.   2.   2. ]\n",
      " [ 2.5  2.5  2.5 ...  2.5  2.5  2.5]] [[-3.         -2.93939394 -2.87878788 ...  2.87878788  2.93939394\n",
      "   3.        ]\n",
      " [-3.         -2.93939394 -2.87878788 ...  2.87878788  2.93939394\n",
      "   3.        ]\n",
      " [-3.         -2.93939394 -2.87878788 ...  2.87878788  2.93939394\n",
      "   3.        ]\n",
      " ...\n",
      " [-3.         -2.93939394 -2.87878788 ...  2.87878788  2.93939394\n",
      "   3.        ]\n",
      " [-3.         -2.93939394 -2.87878788 ...  2.87878788  2.93939394\n",
      "   3.        ]\n",
      " [-3.         -2.93939394 -2.87878788 ...  2.87878788  2.93939394\n",
      "   3.        ]]\n"
     ]
    }
   ],
   "source": [
    "x,y = mgrid[-3:3:0.5,-3:3:100j]\n",
    "\n",
    "print(x,y)\n",
    "z = sin(x**2 + y**2)\n",
    "mlab.surf(x,y,z)\n",
    "mlab.show()"
   ]
  },
  {
   "cell_type": "code",
   "execution_count": null,
   "metadata": {},
   "outputs": [],
   "source": [
    "x,y = mgrid[-3:3:100j,-3:3:100j]\n",
    "\n",
    "\n",
    "z = sin(x*x + y*y)\n",
    "\n",
    "mlab.contour_surf(x,y,z)\n",
    "mlab.show()\n",
    "\n",
    "\n"
   ]
  },
  {
   "cell_type": "code",
   "execution_count": null,
   "metadata": {},
   "outputs": [],
   "source": [
    "mlab.surf(x,y,z)\n",
    "mlab.show()"
   ]
  },
  {
   "cell_type": "code",
   "execution_count": 11,
   "metadata": {},
   "outputs": [],
   "source": [
    "mlab.mesh(x,y,z)\n",
    "mlab.show()"
   ]
  },
  {
   "cell_type": "code",
   "execution_count": 14,
   "metadata": {},
   "outputs": [],
   "source": [
    "phi,theta = mgrid[0:2*pi:200j,0:2*pi:200j]\n",
    "\n",
    "u = 2\n",
    "p = 4.1\n",
    "x = sin(u*phi)*cos(p*theta)\n",
    "y = sin(u*phi)*sin(p*theta)\n",
    "z = cos(phi)\n",
    "\n",
    "mlab.mesh(x,y,z)\n",
    "#mlab.mesh(x,y,z,representation = 'wireframe')\n",
    "mlab.show()\n"
   ]
  },
  {
   "cell_type": "code",
   "execution_count": 13,
   "metadata": {},
   "outputs": [],
   "source": [
    "#triagular mesh\n",
    "import numpy as np\n",
    "x,y,z = [[0.,1.,1],[0.,0.,1],[0.,0,0]]\n",
    "t = [[0,1,2],] \n",
    "\n",
    "points = np.array( [[0.,1.,1],[0.,0.,1],[0.,0,0]])\n",
    "x,y,z = points.T\n",
    "\n",
    "mlab.triangular_mesh(x,y,z,t)\n",
    "mlab.show()"
   ]
  },
  {
   "cell_type": "code",
   "execution_count": 2,
   "metadata": {},
   "outputs": [],
   "source": [
    "import mayavi.mlab as mlab\n",
    "from numpy import *\n",
    "import numpy as np\n",
    "\n",
    "\n",
    "x , y = mgrid[-10:10:100j , -10:10:100j]\n",
    "r = sqrt(x **2 + y **2)\n",
    "s = mlab.mesh(x,y,sin(r)/r,extent=(0,1,0,1,0,1))\n",
    "mlab.outline(s,extent=(0,1,0,1,0,1) )\n",
    "mlab.axes(s,extent=(0,1,0,1,0,1))\n",
    "mlab.show()"
   ]
  },
  {
   "cell_type": "code",
   "execution_count": 4,
   "metadata": {},
   "outputs": [
    {
     "ename": "ModuleNotFoundError",
     "evalue": "No module named 'EMFFeko'",
     "output_type": "error",
     "traceback": [
      "\u001b[1;31m---------------------------------------------------------------------------\u001b[0m",
      "\u001b[1;31mModuleNotFoundError\u001b[0m                       Traceback (most recent call last)",
      "Cell \u001b[1;32mIn [4], line 4\u001b[0m\n\u001b[0;32m      2\u001b[0m \u001b[38;5;28;01mfrom\u001b[39;00m \u001b[38;5;21;01mnumpy\u001b[39;00m \u001b[38;5;28;01mimport\u001b[39;00m \u001b[38;5;241m*\u001b[39m\n\u001b[0;32m      3\u001b[0m \u001b[38;5;28;01mimport\u001b[39;00m \u001b[38;5;21;01mnumpy\u001b[39;00m \u001b[38;5;28;01mas\u001b[39;00m \u001b[38;5;21;01mnp\u001b[39;00m\n\u001b[1;32m----> 4\u001b[0m \u001b[38;5;28;01mfrom\u001b[39;00m \u001b[38;5;21;01mEMFFeko\u001b[39;00m \u001b[38;5;28;01mimport\u001b[39;00m GetField,GetFarField,nearSurface,ClassicalSpherical\n\u001b[0;32m      5\u001b[0m \u001b[38;5;28;01mfrom\u001b[39;00m \u001b[38;5;21;01mmatplotlib\u001b[39;00m \u001b[38;5;28;01mimport\u001b[39;00m pyplot \u001b[38;5;28;01mas\u001b[39;00m plt\n\u001b[0;32m      6\u001b[0m \u001b[38;5;28;01mimport\u001b[39;00m \u001b[38;5;21;01mpandas\u001b[39;00m \u001b[38;5;28;01mas\u001b[39;00m \u001b[38;5;21;01mpd\u001b[39;00m\n",
      "\u001b[1;31mModuleNotFoundError\u001b[0m: No module named 'EMFFeko'"
     ]
    }
   ],
   "source": [
    "import mayavi.mlab as mlab\n",
    "from numpy import *\n",
    "import numpy as np\n",
    "from EMFFeko import *\n",
    "from matplotlib import pyplot as plt\n",
    "import pandas as pd\n",
    "\n",
    "ff1 = GetFarField('IEC-62232-panel-antenna (4)_FarField1.ffe')\n",
    "\n",
    "theta, phi = mgrid[0:360:1j,0:360:1j]\n",
    "print(theta)"
   ]
  }
 ],
 "metadata": {
  "kernelspec": {
   "display_name": "Python 3.10.4 ('venv': venv)",
   "language": "python",
   "name": "python3"
  },
  "language_info": {
   "codemirror_mode": {
    "name": "ipython",
    "version": 3
   },
   "file_extension": ".py",
   "mimetype": "text/x-python",
   "name": "python",
   "nbconvert_exporter": "python",
   "pygments_lexer": "ipython3",
   "version": "3.10.4"
  },
  "orig_nbformat": 4,
  "vscode": {
   "interpreter": {
    "hash": "2ae21ef58596c5cd1c26fa0ab8c2bee8f6c0fc222a86a9fcf45f1cdeff58a2a5"
   }
  }
 },
 "nbformat": 4,
 "nbformat_minor": 2
}
